{
 "cells": [
  {
   "cell_type": "code",
   "execution_count": 9,
   "id": "c802a2cc",
   "metadata": {},
   "outputs": [],
   "source": [
    "import io\n",
    "#import os\n",
    "#import glob\n",
    "import imageio\n",
    "import pandas as pd\n",
    "import numpy as np\n",
    "import pathlib as pl\n",
    "from tqdm import tqdm\n",
    "from moviepy.editor import *\n",
    "import matplotlib.pyplot as plt\n",
    "from IPython.display import Image\n",
    "from collections import defaultdict"
   ]
  },
  {
   "cell_type": "code",
   "execution_count": 10,
   "id": "cec95171",
   "metadata": {},
   "outputs": [],
   "source": [
    "current_path    = pl.Path.cwd().parent.joinpath('img', 'Original')\n",
    "select_folder   = 1 # 1: train, 2: test\n",
    "folder_path     = current_path.joinpath('train' if select_folder == 1 else 'test')\n",
    "\n",
    "images_path     = folder_path.joinpath('ims')\n",
    "mask_path       = folder_path.joinpath('masks')\n",
    "images_list     = list(images_path.glob('*.npy'))\n",
    "mask_list       = list(mask_path.glob('*.npy'))\n",
    "\n",
    "\n",
    "#create a new folder for the output png images\n",
    "new_folder=current_path.parent.joinpath('png_images').mkdir(exist_ok=True)\n",
    "new_folder=current_path.parent.joinpath('png_images').joinpath('train' if select_folder == 1 else 'test').mkdir(exist_ok=True)\n",
    "output_path=current_path.parent.joinpath('png_images').joinpath('train' if select_folder == 1 else 'test')\n",
    "\n",
    "#create a new folder for the output gif\n",
    "new_folder=current_path.parent.joinpath('gif_images').mkdir(exist_ok=True)\n",
    "new_folder=current_path.parent.joinpath('gif_images').joinpath('train' if select_folder == 1 else 'test').mkdir(exist_ok=True)\n",
    "output_path_gif=current_path.parent.joinpath('gif_images').joinpath('train' if select_folder == 1 else 'test')\n",
    "\n",
    "\n",
    "def sorting_key(filepath):\n",
    "    parts           = filepath.stem.split('_')  # Divide el nombre del archivo en partes\n",
    "    patient_number  = int(parts[1])  # Extrae el número del paciente\n",
    "    slice_number    = int(parts[2])  # Extrae el número del slice\n",
    "    return (patient_number, slice_number)  # Retorna una tupla con ambos números\n",
    "\n",
    "# Ordena images_list basado en el número del paciente y el número del slice\n",
    "images_list.sort(key=sorting_key)\n",
    "mask_list.sort(key=sorting_key)"
   ]
  },
  {
   "cell_type": "code",
   "execution_count": 11,
   "id": "ef9c9aaa",
   "metadata": {},
   "outputs": [],
   "source": [
    "def generar_imagenes_png(images_list, mask_list, cmap='gray', output_path=output_path):\n",
    "    \"\"\"\n",
    "    Display images and masks side by side.\n",
    "    \n",
    "    Parameters:\n",
    "    - images_list: List of paths to image files.\n",
    "    - mask_list: List of paths to mask files.\n",
    "    - cmap: Color map for displaying images and masks. Default is 'gray'.\n",
    "    \n",
    "    Returns:\n",
    "    - None\n",
    "    \"\"\"\n",
    "\n",
    "    for image, mask in tqdm(zip(images_list, mask_list), desc='Displaying images and masks'):\n",
    "        parts = image.stem.split('_')\n",
    "        set_folder = parts[0]\n",
    "        pacient = int(parts[1])\n",
    "        slice_number = int(parts[2])\n",
    "        # Cargar datos de imagen y máscara\n",
    "        image_data = np.load(image)\n",
    "        mask_data = np.load(mask)\n",
    "        \n",
    "        # Crear subplots\n",
    "        fig, (ax1, ax2) = plt.subplots(1, 2, figsize=(10, 5))\n",
    "        \n",
    "        # Mostrar imagen\n",
    "        ax1.imshow(image_data, cmap=cmap)\n",
    "        ax1.set_title(f'Imagen: {image.stem}')\n",
    "        ax1.axis('off')\n",
    "        \n",
    "        # Mostrar máscara\n",
    "        ax2.imshow(mask_data, cmap=cmap)\n",
    "        ax2.set_title(f'Máscara: {mask.stem}')\n",
    "        ax2.axis('off')\n",
    "        \n",
    "        # Añadir un súper título con la información del paciente\n",
    "        fig.suptitle(f'Paciente: {pacient}', fontsize=16)\n",
    "        \n",
    "        # Guardar imagen en output_path\n",
    "        plt.savefig(output_path.joinpath(f'{image.stem}.png'))\n",
    "        plt.close()"
   ]
  },
  {
   "cell_type": "code",
   "execution_count": 12,
   "id": "4583ee4a",
   "metadata": {},
   "outputs": [
    {
     "name": "stderr",
     "output_type": "stream",
     "text": [
      "Displaying images and masks: 20it [00:02,  9.22it/s]\n"
     ]
    }
   ],
   "source": [
    "number=20\n",
    "generar_imagenes_png(images_list[:number], mask_list[:number], cmap='gray', output_path=output_path)"
   ]
  },
  {
   "cell_type": "code",
   "execution_count": 13,
   "id": "ed308e47",
   "metadata": {},
   "outputs": [],
   "source": [
    "def display_images_and_masks(images_list, mask_list, num_slices, counter, pacient, cmap='gray'):\n",
    "    \"\"\"\n",
    "    Display images and masks side by side and store them in a list.\n",
    "    \n",
    "    Parameters:\n",
    "    - images_list: List of paths to image files.\n",
    "    - mask_list: List of paths to mask files.\n",
    "    - num_slices: Number of image-mask pairs to display.\n",
    "    - cmap: Color map for displaying images and masks. Default is 'gray'.\n",
    "    \n",
    "    Returns:\n",
    "    - images_for_gif: List of images for creating a GIF.\n",
    "    \"\"\"\n",
    "    num_slices = num_slices + counter\n",
    "    \n",
    "    # Limitar el número de imágenes y máscaras a mostrar\n",
    "    images_list = images_list[counter:num_slices]\n",
    "    mask_list = mask_list[counter:num_slices]\n",
    "    \n",
    "    # Asegurarse de que hay el mismo número de imágenes y máscaras\n",
    "    assert len(images_list) == len(mask_list), \"La cantidad de imágenes y máscaras debe ser la misma.\"\n",
    "    \n",
    "    images_for_gif = []  # Lista para almacenar imágenes para el GIF\n",
    "    \n",
    "    for image, mask in tqdm(zip(images_list, mask_list), desc='Displaying images and masks'):\n",
    "        # Cargar datos de imagen y máscara\n",
    "        image_data = np.load(image)\n",
    "        mask_data = np.load(mask)\n",
    "        \n",
    "        # Crear subplots\n",
    "        fig, (ax1, ax2) = plt.subplots(1, 2, figsize=(10, 5))\n",
    "        \n",
    "        # Mostrar imagen\n",
    "        ax1.imshow(image_data, cmap=cmap)\n",
    "        ax1.set_title(f'Imagen: {image.stem}')\n",
    "        ax1.axis('off')\n",
    "        \n",
    "        # Mostrar máscara\n",
    "        ax2.imshow(mask_data, cmap=cmap)\n",
    "        ax2.set_title(f'Máscara: {mask.stem}')\n",
    "        ax2.axis('off')\n",
    "        \n",
    "        # Añadir un súper título con la información del paciente\n",
    "        fig.suptitle(f'Paciente: {pacient:03d}', fontsize=16)\n",
    "        \n",
    "        # Guardar la figura en un buffer y luego agregarla a images_for_gif\n",
    "        buf = io.BytesIO()\n",
    "        plt.savefig(buf, format='png')\n",
    "        buf.seek(0)\n",
    "        images_for_gif.append(imageio.imread(buf))\n",
    "        buf.close()\n",
    "        \n",
    "        # Cerrar la figura para evitar la visualización\n",
    "        plt.close(fig)\n",
    "    \n",
    "    return images_for_gif"
   ]
  },
  {
   "cell_type": "code",
   "execution_count": 14,
   "id": "ba52f729",
   "metadata": {},
   "outputs": [
    {
     "name": "stdout",
     "output_type": "stream",
     "text": [
      "Paciente 000: 49 slices\n",
      "Paciente 001: 50 slices\n",
      "Paciente 002: 52 slices\n",
      "Paciente 003: 29 slices\n",
      "Paciente 004: 71 slices\n",
      "Paciente 005: 68 slices\n",
      "Paciente 006: 60 slices\n",
      "Paciente 007: 48 slices\n",
      "Paciente 008: 59 slices\n",
      "Paciente 009: 66 slices\n",
      "Paciente 010: 72 slices\n",
      "Paciente 011: 57 slices\n",
      "Paciente 012: 76 slices\n",
      "Paciente 013: 65 slices\n",
      "Paciente 014: 58 slices\n",
      "Paciente 015: 55 slices\n",
      "Paciente 016: 49 slices\n",
      "Paciente 017: 74 slices\n",
      "Paciente 018: 68 slices\n",
      "Paciente 019: 60 slices\n",
      "Paciente 020: 45 slices\n",
      "Paciente 021: 75 slices\n",
      "Paciente 022: 48 slices\n",
      "Paciente 023: 62 slices\n",
      "Paciente 024: 43 slices\n",
      "Paciente 025: 66 slices\n",
      "Paciente 026: 46 slices\n",
      "Paciente 027: 45 slices\n",
      "Paciente 028: 50 slices\n",
      "Paciente 029: 52 slices\n",
      "Paciente 030: 70 slices\n",
      "Paciente 032: 46 slices\n",
      "Paciente 033: 66 slices\n",
      "Paciente 034: 28 slices\n",
      "Paciente 035: 57 slices\n",
      "Paciente 036: 14 slices\n",
      "Paciente 037: 45 slices\n",
      "Paciente 038: 25 slices\n",
      "Paciente 039: 72 slices\n",
      "Paciente 040: 77 slices\n",
      "Paciente 041: 72 slices\n",
      "Paciente 043: 66 slices\n",
      "Paciente 044: 69 slices\n",
      "Paciente 045: 70 slices\n",
      "Paciente 046: 69 slices\n",
      "Paciente 047: 85 slices\n",
      "Paciente 048: 29 slices\n",
      "Paciente 049: 47 slices\n"
     ]
    }
   ],
   "source": [
    "def get_max_slices(images_list):\n",
    "    slices_per_patient = defaultdict(int)\n",
    "\n",
    "    for image_path in images_list:\n",
    "        parts = image_path.stem.split('_')\n",
    "        patient_number = int(parts[1])\n",
    "        slice_number = int(parts[2])+1\n",
    "\n",
    "        # Actualizar el conteo de slices si el número de slice actual es mayor que el máximo registrado\n",
    "        slices_per_patient[patient_number] = max(slices_per_patient[patient_number], slice_number)\n",
    "\n",
    "    return slices_per_patient\n",
    "\n",
    "def print_max_slices(max_slices_per_patient):\n",
    "    for patient_number, slice_count in max_slices_per_patient.items():\n",
    "        print(f\"Paciente {str(patient_number).zfill(3)}: {slice_count} slices\")\n",
    "\n",
    "# Llamar a la función y obtener el número máximo de slices por paciente\n",
    "max_slices_per_patient = get_max_slices(images_list)\n",
    "\n",
    "# Llamar a la función print_max_slices para imprimir la salida formateada\n",
    "print_max_slices(max_slices_per_patient)"
   ]
  },
  {
   "cell_type": "code",
   "execution_count": 15,
   "id": "57f20179",
   "metadata": {},
   "outputs": [
    {
     "data": {
      "text/plain": [
       "count    48.000000\n",
       "mean     56.770833\n",
       "std      15.315462\n",
       "min      14.000000\n",
       "25%      47.750000\n",
       "50%      58.500000\n",
       "75%      69.000000\n",
       "max      85.000000\n",
       "Name: max_slices, dtype: float64"
      ]
     },
     "execution_count": 15,
     "metadata": {},
     "output_type": "execute_result"
    }
   ],
   "source": [
    "def create_dataframe(max_slices_per_patient):\n",
    "    # Convertir el diccionario a una lista de tuples\n",
    "    data_list = [(str(patient_number).zfill(3), slice_count) for patient_number, slice_count in max_slices_per_patient.items()]\n",
    "    \n",
    "    # Crear un DataFrame y retornarlo\n",
    "    return pd.DataFrame(data_list, columns=['Paciente', 'max_slices'])\n",
    "\n",
    "df = create_dataframe(max_slices_per_patient)\n",
    "\n",
    "df['max_slices'].describe()"
   ]
  },
  {
   "cell_type": "code",
   "execution_count": 16,
   "id": "ca79b3e5",
   "metadata": {},
   "outputs": [
    {
     "data": {
      "text/html": [
       "<div>\n",
       "<style scoped>\n",
       "    .dataframe tbody tr th:only-of-type {\n",
       "        vertical-align: middle;\n",
       "    }\n",
       "\n",
       "    .dataframe tbody tr th {\n",
       "        vertical-align: top;\n",
       "    }\n",
       "\n",
       "    .dataframe thead th {\n",
       "        text-align: right;\n",
       "    }\n",
       "</style>\n",
       "<table border=\"1\" class=\"dataframe\">\n",
       "  <thead>\n",
       "    <tr style=\"text-align: right;\">\n",
       "      <th></th>\n",
       "      <th>Paciente</th>\n",
       "      <th>max_slices</th>\n",
       "    </tr>\n",
       "  </thead>\n",
       "  <tbody>\n",
       "    <tr>\n",
       "      <th>0</th>\n",
       "      <td>000</td>\n",
       "      <td>49</td>\n",
       "    </tr>\n",
       "    <tr>\n",
       "      <th>1</th>\n",
       "      <td>001</td>\n",
       "      <td>50</td>\n",
       "    </tr>\n",
       "    <tr>\n",
       "      <th>2</th>\n",
       "      <td>002</td>\n",
       "      <td>52</td>\n",
       "    </tr>\n",
       "    <tr>\n",
       "      <th>3</th>\n",
       "      <td>003</td>\n",
       "      <td>29</td>\n",
       "    </tr>\n",
       "    <tr>\n",
       "      <th>4</th>\n",
       "      <td>004</td>\n",
       "      <td>71</td>\n",
       "    </tr>\n",
       "    <tr>\n",
       "      <th>5</th>\n",
       "      <td>005</td>\n",
       "      <td>68</td>\n",
       "    </tr>\n",
       "    <tr>\n",
       "      <th>6</th>\n",
       "      <td>006</td>\n",
       "      <td>60</td>\n",
       "    </tr>\n",
       "    <tr>\n",
       "      <th>7</th>\n",
       "      <td>007</td>\n",
       "      <td>48</td>\n",
       "    </tr>\n",
       "    <tr>\n",
       "      <th>8</th>\n",
       "      <td>008</td>\n",
       "      <td>59</td>\n",
       "    </tr>\n",
       "    <tr>\n",
       "      <th>9</th>\n",
       "      <td>009</td>\n",
       "      <td>66</td>\n",
       "    </tr>\n",
       "    <tr>\n",
       "      <th>10</th>\n",
       "      <td>010</td>\n",
       "      <td>72</td>\n",
       "    </tr>\n",
       "    <tr>\n",
       "      <th>11</th>\n",
       "      <td>011</td>\n",
       "      <td>57</td>\n",
       "    </tr>\n",
       "    <tr>\n",
       "      <th>12</th>\n",
       "      <td>012</td>\n",
       "      <td>76</td>\n",
       "    </tr>\n",
       "    <tr>\n",
       "      <th>13</th>\n",
       "      <td>013</td>\n",
       "      <td>65</td>\n",
       "    </tr>\n",
       "    <tr>\n",
       "      <th>14</th>\n",
       "      <td>014</td>\n",
       "      <td>58</td>\n",
       "    </tr>\n",
       "    <tr>\n",
       "      <th>15</th>\n",
       "      <td>015</td>\n",
       "      <td>55</td>\n",
       "    </tr>\n",
       "    <tr>\n",
       "      <th>16</th>\n",
       "      <td>016</td>\n",
       "      <td>49</td>\n",
       "    </tr>\n",
       "    <tr>\n",
       "      <th>17</th>\n",
       "      <td>017</td>\n",
       "      <td>74</td>\n",
       "    </tr>\n",
       "    <tr>\n",
       "      <th>18</th>\n",
       "      <td>018</td>\n",
       "      <td>68</td>\n",
       "    </tr>\n",
       "    <tr>\n",
       "      <th>19</th>\n",
       "      <td>019</td>\n",
       "      <td>60</td>\n",
       "    </tr>\n",
       "    <tr>\n",
       "      <th>20</th>\n",
       "      <td>020</td>\n",
       "      <td>45</td>\n",
       "    </tr>\n",
       "    <tr>\n",
       "      <th>21</th>\n",
       "      <td>021</td>\n",
       "      <td>75</td>\n",
       "    </tr>\n",
       "    <tr>\n",
       "      <th>22</th>\n",
       "      <td>022</td>\n",
       "      <td>48</td>\n",
       "    </tr>\n",
       "    <tr>\n",
       "      <th>23</th>\n",
       "      <td>023</td>\n",
       "      <td>62</td>\n",
       "    </tr>\n",
       "    <tr>\n",
       "      <th>24</th>\n",
       "      <td>024</td>\n",
       "      <td>43</td>\n",
       "    </tr>\n",
       "    <tr>\n",
       "      <th>25</th>\n",
       "      <td>025</td>\n",
       "      <td>66</td>\n",
       "    </tr>\n",
       "    <tr>\n",
       "      <th>26</th>\n",
       "      <td>026</td>\n",
       "      <td>46</td>\n",
       "    </tr>\n",
       "    <tr>\n",
       "      <th>27</th>\n",
       "      <td>027</td>\n",
       "      <td>45</td>\n",
       "    </tr>\n",
       "    <tr>\n",
       "      <th>28</th>\n",
       "      <td>028</td>\n",
       "      <td>50</td>\n",
       "    </tr>\n",
       "    <tr>\n",
       "      <th>29</th>\n",
       "      <td>029</td>\n",
       "      <td>52</td>\n",
       "    </tr>\n",
       "    <tr>\n",
       "      <th>30</th>\n",
       "      <td>030</td>\n",
       "      <td>70</td>\n",
       "    </tr>\n",
       "    <tr>\n",
       "      <th>31</th>\n",
       "      <td>032</td>\n",
       "      <td>46</td>\n",
       "    </tr>\n",
       "    <tr>\n",
       "      <th>32</th>\n",
       "      <td>033</td>\n",
       "      <td>66</td>\n",
       "    </tr>\n",
       "    <tr>\n",
       "      <th>33</th>\n",
       "      <td>034</td>\n",
       "      <td>28</td>\n",
       "    </tr>\n",
       "    <tr>\n",
       "      <th>34</th>\n",
       "      <td>035</td>\n",
       "      <td>57</td>\n",
       "    </tr>\n",
       "    <tr>\n",
       "      <th>35</th>\n",
       "      <td>036</td>\n",
       "      <td>14</td>\n",
       "    </tr>\n",
       "    <tr>\n",
       "      <th>36</th>\n",
       "      <td>037</td>\n",
       "      <td>45</td>\n",
       "    </tr>\n",
       "    <tr>\n",
       "      <th>37</th>\n",
       "      <td>038</td>\n",
       "      <td>25</td>\n",
       "    </tr>\n",
       "    <tr>\n",
       "      <th>38</th>\n",
       "      <td>039</td>\n",
       "      <td>72</td>\n",
       "    </tr>\n",
       "    <tr>\n",
       "      <th>39</th>\n",
       "      <td>040</td>\n",
       "      <td>77</td>\n",
       "    </tr>\n",
       "    <tr>\n",
       "      <th>40</th>\n",
       "      <td>041</td>\n",
       "      <td>72</td>\n",
       "    </tr>\n",
       "    <tr>\n",
       "      <th>41</th>\n",
       "      <td>043</td>\n",
       "      <td>66</td>\n",
       "    </tr>\n",
       "    <tr>\n",
       "      <th>42</th>\n",
       "      <td>044</td>\n",
       "      <td>69</td>\n",
       "    </tr>\n",
       "    <tr>\n",
       "      <th>43</th>\n",
       "      <td>045</td>\n",
       "      <td>70</td>\n",
       "    </tr>\n",
       "    <tr>\n",
       "      <th>44</th>\n",
       "      <td>046</td>\n",
       "      <td>69</td>\n",
       "    </tr>\n",
       "    <tr>\n",
       "      <th>45</th>\n",
       "      <td>047</td>\n",
       "      <td>85</td>\n",
       "    </tr>\n",
       "    <tr>\n",
       "      <th>46</th>\n",
       "      <td>048</td>\n",
       "      <td>29</td>\n",
       "    </tr>\n",
       "    <tr>\n",
       "      <th>47</th>\n",
       "      <td>049</td>\n",
       "      <td>47</td>\n",
       "    </tr>\n",
       "  </tbody>\n",
       "</table>\n",
       "</div>"
      ],
      "text/plain": [
       "   Paciente  max_slices\n",
       "0       000          49\n",
       "1       001          50\n",
       "2       002          52\n",
       "3       003          29\n",
       "4       004          71\n",
       "5       005          68\n",
       "6       006          60\n",
       "7       007          48\n",
       "8       008          59\n",
       "9       009          66\n",
       "10      010          72\n",
       "11      011          57\n",
       "12      012          76\n",
       "13      013          65\n",
       "14      014          58\n",
       "15      015          55\n",
       "16      016          49\n",
       "17      017          74\n",
       "18      018          68\n",
       "19      019          60\n",
       "20      020          45\n",
       "21      021          75\n",
       "22      022          48\n",
       "23      023          62\n",
       "24      024          43\n",
       "25      025          66\n",
       "26      026          46\n",
       "27      027          45\n",
       "28      028          50\n",
       "29      029          52\n",
       "30      030          70\n",
       "31      032          46\n",
       "32      033          66\n",
       "33      034          28\n",
       "34      035          57\n",
       "35      036          14\n",
       "36      037          45\n",
       "37      038          25\n",
       "38      039          72\n",
       "39      040          77\n",
       "40      041          72\n",
       "41      043          66\n",
       "42      044          69\n",
       "43      045          70\n",
       "44      046          69\n",
       "45      047          85\n",
       "46      048          29\n",
       "47      049          47"
      ]
     },
     "execution_count": 16,
     "metadata": {},
     "output_type": "execute_result"
    }
   ],
   "source": [
    "df"
   ]
  },
  {
   "cell_type": "code",
   "execution_count": 17,
   "id": "187d9ecd",
   "metadata": {},
   "outputs": [
    {
     "name": "stderr",
     "output_type": "stream",
     "text": [
      "Displaying images and masks: 49it [00:06,  8.05it/s] ?it/s]\n",
      "Displaying images and masks: 50it [00:06,  7.81it/s]:11,  6.62s/it]\n",
      "Displaying images and masks: 52it [00:06,  7.70it/s]:10,  6.76s/it]\n",
      "Displaying images and masks: 29it [00:03,  7.44it/s]:13,  6.97s/it]\n",
      "Displaying images and masks: 71it [00:09,  7.78it/s]:18,  5.87s/it]\n",
      "Displaying images and masks: 68it [00:08,  7.76it/s]:12,  7.27s/it]\n",
      "Displaying images and masks: 60it [00:08,  7.39it/s]:35,  8.00s/it]\n",
      "Displaying images and masks: 48it [00:05,  8.31it/s]:36,  8.21s/it]\n",
      "Displaying images and masks: 59it [00:08,  7.23it/s]:02,  7.57s/it]\n",
      "Displaying images and masks: 66it [00:07,  8.26it/s]:09,  7.94s/it]\n",
      "Displaying images and masks: 72it [00:10,  7.19it/s]5:09,  8.14s/it]\n",
      "Displaying images and masks: 57it [00:06,  8.18it/s]5:30,  8.92s/it]\n",
      "Displaying images and masks: 76it [00:09,  8.33it/s]5:05,  8.49s/it]\n",
      "Displaying images and masks: 65it [00:09,  6.83it/s]5:11,  8.89s/it]\n",
      "Displaying images and masks: 58it [00:07,  8.25it/s]5:15,  9.27s/it]\n",
      "Displaying images and masks: 55it [00:06,  8.19it/s]4:48,  8.75s/it]\n",
      "Displaying images and masks: 49it [00:07,  6.17it/s]4:25,  8.30s/it]\n",
      "Displaying images and masks: 74it [00:08,  8.25it/s]4:18,  8.32s/it]\n",
      "Displaying images and masks: 68it [00:08,  8.24it/s]4:21,  8.73s/it]\n",
      "Displaying images and masks: 60it [00:07,  8.19it/s]4:14,  8.79s/it]\n",
      "Displaying images and masks: 45it [00:08,  5.61it/s]3:58,  8.51s/it]\n",
      "Displaying images and masks: 75it [00:09,  8.16it/s]3:49,  8.49s/it]\n",
      "Displaying images and masks: 48it [00:06,  7.99it/s]3:51,  8.91s/it]\n",
      "Displaying images and masks: 62it [00:07,  8.05it/s]3:24,  8.18s/it]\n",
      "Displaying images and masks: 43it [00:05,  7.98it/s]3:16,  8.20s/it]\n",
      "Displaying images and masks: 66it [00:13,  4.72it/s]2:52,  7.48s/it]\n",
      "Displaying images and masks: 46it [00:05,  7.73it/s]3:31,  9.62s/it]\n",
      "Displaying images and masks: 45it [00:05,  7.71it/s]3:01,  8.65s/it]\n",
      "Displaying images and masks: 50it [00:06,  7.83it/s]2:38,  7.93s/it]\n",
      "Displaying images and masks: 52it [00:06,  7.90it/s]2:24,  7.61s/it]\n",
      "Displaying images and masks: 70it [00:09,  7.58it/s]2:14,  7.45s/it]\n",
      "Displaying images and masks: 46it [00:06,  7.66it/s]2:19,  8.18s/it]\n",
      "Displaying images and masks: 66it [00:12,  5.17it/s]2:02,  7.67s/it]\n",
      "Displaying images and masks: 28it [00:03,  7.65it/s]2:20,  9.39s/it]\n",
      "Displaying images and masks: 57it [00:07,  7.85it/s]1:48,  7.75s/it]\n",
      "Displaying images and masks: 14it [00:01,  7.47it/s]1:41,  7.77s/it]\n",
      "Displaying images and masks: 45it [00:05,  7.67it/s]1:12,  6.05s/it]\n",
      "Displaying images and masks: 25it [00:03,  7.47it/s]1:07,  6.12s/it]\n",
      "Displaying images and masks: 72it [00:09,  7.66it/s]0:53,  5.37s/it]\n",
      "Displaying images and masks: 77it [00:10,  7.67it/s]1:01,  6.80s/it]\n",
      "Displaying images and masks: 72it [00:09,  7.36it/s]1:03,  7.99s/it]\n",
      "Displaying images and masks: 66it [00:08,  7.47it/s]1:01,  8.75s/it]\n",
      "Displaying images and masks: 69it [00:14,  4.87it/s]0:53,  8.98s/it]\n",
      "Displaying images and masks: 70it [00:09,  7.56it/s]0:53, 10.75s/it]\n",
      "Displaying images and masks: 69it [00:09,  7.29it/s]0:42, 10.52s/it]\n",
      "Displaying images and masks: 85it [00:11,  7.40it/s]0:31, 10.42s/it]\n",
      "Displaying images and masks: 29it [00:03,  7.32it/s]0:21, 11.00s/it]\n",
      "Displaying images and masks: 0it [00:00, ?it/s]:30<00:08,  8.98s/it]\n",
      "Processing patients: 100%|██████████| 48/48 [06:30<00:00,  8.13s/it]"
     ]
    },
    {
     "name": "stdout",
     "output_type": "stream",
     "text": [
      "No se generaron imágenes para el paciente 049\n"
     ]
    },
    {
     "name": "stderr",
     "output_type": "stream",
     "text": [
      "\n"
     ]
    }
   ],
   "source": [
    "counter = 0\n",
    "for patient_number, max_slices in tqdm(max_slices_per_patient.items(), desc='Processing patients'):\n",
    "    #print(f'Paciente {patient_number:03d}: {max_slices} slices')\n",
    "    images_for_gif = display_images_and_masks(images_list, mask_list, max_slices, counter,patient_number,cmap='gray')\n",
    "    counter = counter + max_slices + 1\n",
    "    if images_for_gif:\n",
    "        # Guardar el GIF en output_path_gif\n",
    "        imageio.mimsave(output_path_gif.joinpath(f'paciente_{patient_number:03d}.gif'), images_for_gif, duration=0.5)\n",
    "    else:\n",
    "        print(f'No se generaron imágenes para el paciente {patient_number:03d}')\n"
   ]
  },
  {
   "cell_type": "code",
   "execution_count": 19,
   "id": "ed059b82",
   "metadata": {},
   "outputs": [],
   "source": [
    "#create a new folder for the output gif\n",
    "new_folder      = current_path.parent.joinpath('mp4_videos').mkdir(exist_ok=True)\n",
    "new_folder      = current_path.parent.joinpath('mp4_videos').joinpath('train' if select_folder == 1 else 'test').mkdir(exist_ok=True)\n",
    "output_path_mp4 = current_path.parent.joinpath('mp4_videos').joinpath('train' if select_folder == 1 else 'test')"
   ]
  },
  {
   "cell_type": "code",
   "execution_count": 21,
   "id": "7ba27392",
   "metadata": {},
   "outputs": [],
   "source": [
    "gif_list = list(current_path.glob('*.gif'))\n",
    "for gif in gif_list:\n",
    "    display(Image(str(gif)))"
   ]
  },
  {
   "cell_type": "code",
   "execution_count": 22,
   "id": "baf9c358",
   "metadata": {},
   "outputs": [],
   "source": [
    "def convert_gif_to_mp4(gif_path, mp4_path):\n",
    "    clip = VideoFileClip(str(gif_path))\n",
    "    clip.write_videofile(str(mp4_path), codec='libx264')"
   ]
  },
  {
   "cell_type": "code",
   "execution_count": 23,
   "id": "924ca49a",
   "metadata": {},
   "outputs": [
    {
     "name": "stdout",
     "output_type": "stream",
     "text": [
      "Moviepy - Building video d:\\Trabajo de Maestria\\segmentacion_maestria\\img\\mp4_videos\\train\\paciente_000.mp4.\n",
      "Moviepy - Writing video d:\\Trabajo de Maestria\\segmentacion_maestria\\img\\mp4_videos\\train\\paciente_000.mp4\n",
      "\n"
     ]
    },
    {
     "name": "stderr",
     "output_type": "stream",
     "text": [
      "                                                             \r"
     ]
    },
    {
     "name": "stdout",
     "output_type": "stream",
     "text": [
      "Moviepy - Done !\n",
      "Moviepy - video ready d:\\Trabajo de Maestria\\segmentacion_maestria\\img\\mp4_videos\\train\\paciente_000.mp4\n",
      "Moviepy - Building video d:\\Trabajo de Maestria\\segmentacion_maestria\\img\\mp4_videos\\train\\paciente_001.mp4.\n",
      "Moviepy - Writing video d:\\Trabajo de Maestria\\segmentacion_maestria\\img\\mp4_videos\\train\\paciente_001.mp4\n",
      "\n"
     ]
    },
    {
     "name": "stderr",
     "output_type": "stream",
     "text": [
      "                                                             \r"
     ]
    },
    {
     "name": "stdout",
     "output_type": "stream",
     "text": [
      "Moviepy - Done !\n",
      "Moviepy - video ready d:\\Trabajo de Maestria\\segmentacion_maestria\\img\\mp4_videos\\train\\paciente_001.mp4\n",
      "Moviepy - Building video d:\\Trabajo de Maestria\\segmentacion_maestria\\img\\mp4_videos\\train\\paciente_002.mp4.\n",
      "Moviepy - Writing video d:\\Trabajo de Maestria\\segmentacion_maestria\\img\\mp4_videos\\train\\paciente_002.mp4\n",
      "\n"
     ]
    },
    {
     "name": "stderr",
     "output_type": "stream",
     "text": [
      "                                                             \r"
     ]
    },
    {
     "name": "stdout",
     "output_type": "stream",
     "text": [
      "Moviepy - Done !\n",
      "Moviepy - video ready d:\\Trabajo de Maestria\\segmentacion_maestria\\img\\mp4_videos\\train\\paciente_002.mp4\n",
      "Moviepy - Building video d:\\Trabajo de Maestria\\segmentacion_maestria\\img\\mp4_videos\\train\\paciente_003.mp4.\n",
      "Moviepy - Writing video d:\\Trabajo de Maestria\\segmentacion_maestria\\img\\mp4_videos\\train\\paciente_003.mp4\n",
      "\n"
     ]
    },
    {
     "name": "stderr",
     "output_type": "stream",
     "text": [
      "                                                             \r"
     ]
    },
    {
     "name": "stdout",
     "output_type": "stream",
     "text": [
      "Moviepy - Done !\n",
      "Moviepy - video ready d:\\Trabajo de Maestria\\segmentacion_maestria\\img\\mp4_videos\\train\\paciente_003.mp4\n",
      "Moviepy - Building video d:\\Trabajo de Maestria\\segmentacion_maestria\\img\\mp4_videos\\train\\paciente_004.mp4.\n",
      "Moviepy - Writing video d:\\Trabajo de Maestria\\segmentacion_maestria\\img\\mp4_videos\\train\\paciente_004.mp4\n",
      "\n"
     ]
    },
    {
     "name": "stderr",
     "output_type": "stream",
     "text": [
      "                                                             \r"
     ]
    },
    {
     "name": "stdout",
     "output_type": "stream",
     "text": [
      "Moviepy - Done !\n",
      "Moviepy - video ready d:\\Trabajo de Maestria\\segmentacion_maestria\\img\\mp4_videos\\train\\paciente_004.mp4\n",
      "Moviepy - Building video d:\\Trabajo de Maestria\\segmentacion_maestria\\img\\mp4_videos\\train\\paciente_005.mp4.\n",
      "Moviepy - Writing video d:\\Trabajo de Maestria\\segmentacion_maestria\\img\\mp4_videos\\train\\paciente_005.mp4\n",
      "\n"
     ]
    },
    {
     "name": "stderr",
     "output_type": "stream",
     "text": [
      "                                                             \r"
     ]
    },
    {
     "name": "stdout",
     "output_type": "stream",
     "text": [
      "Moviepy - Done !\n",
      "Moviepy - video ready d:\\Trabajo de Maestria\\segmentacion_maestria\\img\\mp4_videos\\train\\paciente_005.mp4\n",
      "Moviepy - Building video d:\\Trabajo de Maestria\\segmentacion_maestria\\img\\mp4_videos\\train\\paciente_006.mp4.\n",
      "Moviepy - Writing video d:\\Trabajo de Maestria\\segmentacion_maestria\\img\\mp4_videos\\train\\paciente_006.mp4\n",
      "\n"
     ]
    },
    {
     "name": "stderr",
     "output_type": "stream",
     "text": [
      "                                                             \r"
     ]
    },
    {
     "name": "stdout",
     "output_type": "stream",
     "text": [
      "Moviepy - Done !\n",
      "Moviepy - video ready d:\\Trabajo de Maestria\\segmentacion_maestria\\img\\mp4_videos\\train\\paciente_006.mp4\n",
      "Moviepy - Building video d:\\Trabajo de Maestria\\segmentacion_maestria\\img\\mp4_videos\\train\\paciente_007.mp4.\n",
      "Moviepy - Writing video d:\\Trabajo de Maestria\\segmentacion_maestria\\img\\mp4_videos\\train\\paciente_007.mp4\n",
      "\n"
     ]
    },
    {
     "name": "stderr",
     "output_type": "stream",
     "text": [
      "                                                             \r"
     ]
    },
    {
     "name": "stdout",
     "output_type": "stream",
     "text": [
      "Moviepy - Done !\n",
      "Moviepy - video ready d:\\Trabajo de Maestria\\segmentacion_maestria\\img\\mp4_videos\\train\\paciente_007.mp4\n",
      "Moviepy - Building video d:\\Trabajo de Maestria\\segmentacion_maestria\\img\\mp4_videos\\train\\paciente_008.mp4.\n",
      "Moviepy - Writing video d:\\Trabajo de Maestria\\segmentacion_maestria\\img\\mp4_videos\\train\\paciente_008.mp4\n",
      "\n"
     ]
    },
    {
     "name": "stderr",
     "output_type": "stream",
     "text": [
      "                                                             \r"
     ]
    },
    {
     "name": "stdout",
     "output_type": "stream",
     "text": [
      "Moviepy - Done !\n",
      "Moviepy - video ready d:\\Trabajo de Maestria\\segmentacion_maestria\\img\\mp4_videos\\train\\paciente_008.mp4\n",
      "Moviepy - Building video d:\\Trabajo de Maestria\\segmentacion_maestria\\img\\mp4_videos\\train\\paciente_009.mp4.\n",
      "Moviepy - Writing video d:\\Trabajo de Maestria\\segmentacion_maestria\\img\\mp4_videos\\train\\paciente_009.mp4\n",
      "\n"
     ]
    },
    {
     "name": "stderr",
     "output_type": "stream",
     "text": [
      "                                                             \r"
     ]
    },
    {
     "name": "stdout",
     "output_type": "stream",
     "text": [
      "Moviepy - Done !\n",
      "Moviepy - video ready d:\\Trabajo de Maestria\\segmentacion_maestria\\img\\mp4_videos\\train\\paciente_009.mp4\n",
      "Moviepy - Building video d:\\Trabajo de Maestria\\segmentacion_maestria\\img\\mp4_videos\\train\\paciente_010.mp4.\n",
      "Moviepy - Writing video d:\\Trabajo de Maestria\\segmentacion_maestria\\img\\mp4_videos\\train\\paciente_010.mp4\n",
      "\n"
     ]
    },
    {
     "name": "stderr",
     "output_type": "stream",
     "text": [
      "                                                             \r"
     ]
    },
    {
     "name": "stdout",
     "output_type": "stream",
     "text": [
      "Moviepy - Done !\n",
      "Moviepy - video ready d:\\Trabajo de Maestria\\segmentacion_maestria\\img\\mp4_videos\\train\\paciente_010.mp4\n",
      "Moviepy - Building video d:\\Trabajo de Maestria\\segmentacion_maestria\\img\\mp4_videos\\train\\paciente_011.mp4.\n",
      "Moviepy - Writing video d:\\Trabajo de Maestria\\segmentacion_maestria\\img\\mp4_videos\\train\\paciente_011.mp4\n",
      "\n"
     ]
    },
    {
     "name": "stderr",
     "output_type": "stream",
     "text": [
      "                                                             \r"
     ]
    },
    {
     "name": "stdout",
     "output_type": "stream",
     "text": [
      "Moviepy - Done !\n",
      "Moviepy - video ready d:\\Trabajo de Maestria\\segmentacion_maestria\\img\\mp4_videos\\train\\paciente_011.mp4\n",
      "Moviepy - Building video d:\\Trabajo de Maestria\\segmentacion_maestria\\img\\mp4_videos\\train\\paciente_012.mp4.\n",
      "Moviepy - Writing video d:\\Trabajo de Maestria\\segmentacion_maestria\\img\\mp4_videos\\train\\paciente_012.mp4\n",
      "\n"
     ]
    },
    {
     "name": "stderr",
     "output_type": "stream",
     "text": [
      "                                                             \r"
     ]
    },
    {
     "name": "stdout",
     "output_type": "stream",
     "text": [
      "Moviepy - Done !\n",
      "Moviepy - video ready d:\\Trabajo de Maestria\\segmentacion_maestria\\img\\mp4_videos\\train\\paciente_012.mp4\n",
      "Moviepy - Building video d:\\Trabajo de Maestria\\segmentacion_maestria\\img\\mp4_videos\\train\\paciente_013.mp4.\n",
      "Moviepy - Writing video d:\\Trabajo de Maestria\\segmentacion_maestria\\img\\mp4_videos\\train\\paciente_013.mp4\n",
      "\n"
     ]
    },
    {
     "name": "stderr",
     "output_type": "stream",
     "text": [
      "                                                             \r"
     ]
    },
    {
     "name": "stdout",
     "output_type": "stream",
     "text": [
      "Moviepy - Done !\n",
      "Moviepy - video ready d:\\Trabajo de Maestria\\segmentacion_maestria\\img\\mp4_videos\\train\\paciente_013.mp4\n",
      "Moviepy - Building video d:\\Trabajo de Maestria\\segmentacion_maestria\\img\\mp4_videos\\train\\paciente_014.mp4.\n",
      "Moviepy - Writing video d:\\Trabajo de Maestria\\segmentacion_maestria\\img\\mp4_videos\\train\\paciente_014.mp4\n",
      "\n"
     ]
    },
    {
     "name": "stderr",
     "output_type": "stream",
     "text": [
      "                                                             \r"
     ]
    },
    {
     "name": "stdout",
     "output_type": "stream",
     "text": [
      "Moviepy - Done !\n",
      "Moviepy - video ready d:\\Trabajo de Maestria\\segmentacion_maestria\\img\\mp4_videos\\train\\paciente_014.mp4\n",
      "Moviepy - Building video d:\\Trabajo de Maestria\\segmentacion_maestria\\img\\mp4_videos\\train\\paciente_015.mp4.\n",
      "Moviepy - Writing video d:\\Trabajo de Maestria\\segmentacion_maestria\\img\\mp4_videos\\train\\paciente_015.mp4\n",
      "\n"
     ]
    },
    {
     "name": "stderr",
     "output_type": "stream",
     "text": [
      "                                                             \r"
     ]
    },
    {
     "name": "stdout",
     "output_type": "stream",
     "text": [
      "Moviepy - Done !\n",
      "Moviepy - video ready d:\\Trabajo de Maestria\\segmentacion_maestria\\img\\mp4_videos\\train\\paciente_015.mp4\n",
      "Moviepy - Building video d:\\Trabajo de Maestria\\segmentacion_maestria\\img\\mp4_videos\\train\\paciente_016.mp4.\n",
      "Moviepy - Writing video d:\\Trabajo de Maestria\\segmentacion_maestria\\img\\mp4_videos\\train\\paciente_016.mp4\n",
      "\n"
     ]
    },
    {
     "name": "stderr",
     "output_type": "stream",
     "text": [
      "                                                             \r"
     ]
    },
    {
     "name": "stdout",
     "output_type": "stream",
     "text": [
      "Moviepy - Done !\n",
      "Moviepy - video ready d:\\Trabajo de Maestria\\segmentacion_maestria\\img\\mp4_videos\\train\\paciente_016.mp4\n",
      "Moviepy - Building video d:\\Trabajo de Maestria\\segmentacion_maestria\\img\\mp4_videos\\train\\paciente_017.mp4.\n",
      "Moviepy - Writing video d:\\Trabajo de Maestria\\segmentacion_maestria\\img\\mp4_videos\\train\\paciente_017.mp4\n",
      "\n"
     ]
    },
    {
     "name": "stderr",
     "output_type": "stream",
     "text": [
      "                                                             \r"
     ]
    },
    {
     "name": "stdout",
     "output_type": "stream",
     "text": [
      "Moviepy - Done !\n",
      "Moviepy - video ready d:\\Trabajo de Maestria\\segmentacion_maestria\\img\\mp4_videos\\train\\paciente_017.mp4\n",
      "Moviepy - Building video d:\\Trabajo de Maestria\\segmentacion_maestria\\img\\mp4_videos\\train\\paciente_018.mp4.\n",
      "Moviepy - Writing video d:\\Trabajo de Maestria\\segmentacion_maestria\\img\\mp4_videos\\train\\paciente_018.mp4\n",
      "\n"
     ]
    },
    {
     "name": "stderr",
     "output_type": "stream",
     "text": [
      "                                                             \r"
     ]
    },
    {
     "name": "stdout",
     "output_type": "stream",
     "text": [
      "Moviepy - Done !\n",
      "Moviepy - video ready d:\\Trabajo de Maestria\\segmentacion_maestria\\img\\mp4_videos\\train\\paciente_018.mp4\n",
      "Moviepy - Building video d:\\Trabajo de Maestria\\segmentacion_maestria\\img\\mp4_videos\\train\\paciente_019.mp4.\n",
      "Moviepy - Writing video d:\\Trabajo de Maestria\\segmentacion_maestria\\img\\mp4_videos\\train\\paciente_019.mp4\n",
      "\n"
     ]
    },
    {
     "name": "stderr",
     "output_type": "stream",
     "text": [
      "                                                             \r"
     ]
    },
    {
     "name": "stdout",
     "output_type": "stream",
     "text": [
      "Moviepy - Done !\n",
      "Moviepy - video ready d:\\Trabajo de Maestria\\segmentacion_maestria\\img\\mp4_videos\\train\\paciente_019.mp4\n",
      "Moviepy - Building video d:\\Trabajo de Maestria\\segmentacion_maestria\\img\\mp4_videos\\train\\paciente_020.mp4.\n",
      "Moviepy - Writing video d:\\Trabajo de Maestria\\segmentacion_maestria\\img\\mp4_videos\\train\\paciente_020.mp4\n",
      "\n"
     ]
    },
    {
     "name": "stderr",
     "output_type": "stream",
     "text": [
      "                                                             \r"
     ]
    },
    {
     "name": "stdout",
     "output_type": "stream",
     "text": [
      "Moviepy - Done !\n",
      "Moviepy - video ready d:\\Trabajo de Maestria\\segmentacion_maestria\\img\\mp4_videos\\train\\paciente_020.mp4\n",
      "Moviepy - Building video d:\\Trabajo de Maestria\\segmentacion_maestria\\img\\mp4_videos\\train\\paciente_021.mp4.\n",
      "Moviepy - Writing video d:\\Trabajo de Maestria\\segmentacion_maestria\\img\\mp4_videos\\train\\paciente_021.mp4\n",
      "\n"
     ]
    },
    {
     "name": "stderr",
     "output_type": "stream",
     "text": [
      "                                                             \r"
     ]
    },
    {
     "name": "stdout",
     "output_type": "stream",
     "text": [
      "Moviepy - Done !\n",
      "Moviepy - video ready d:\\Trabajo de Maestria\\segmentacion_maestria\\img\\mp4_videos\\train\\paciente_021.mp4\n",
      "Moviepy - Building video d:\\Trabajo de Maestria\\segmentacion_maestria\\img\\mp4_videos\\train\\paciente_022.mp4.\n",
      "Moviepy - Writing video d:\\Trabajo de Maestria\\segmentacion_maestria\\img\\mp4_videos\\train\\paciente_022.mp4\n",
      "\n"
     ]
    },
    {
     "name": "stderr",
     "output_type": "stream",
     "text": [
      "                                                             \r"
     ]
    },
    {
     "name": "stdout",
     "output_type": "stream",
     "text": [
      "Moviepy - Done !\n",
      "Moviepy - video ready d:\\Trabajo de Maestria\\segmentacion_maestria\\img\\mp4_videos\\train\\paciente_022.mp4\n",
      "Moviepy - Building video d:\\Trabajo de Maestria\\segmentacion_maestria\\img\\mp4_videos\\train\\paciente_023.mp4.\n",
      "Moviepy - Writing video d:\\Trabajo de Maestria\\segmentacion_maestria\\img\\mp4_videos\\train\\paciente_023.mp4\n",
      "\n"
     ]
    },
    {
     "name": "stderr",
     "output_type": "stream",
     "text": [
      "                                                             \r"
     ]
    },
    {
     "name": "stdout",
     "output_type": "stream",
     "text": [
      "Moviepy - Done !\n",
      "Moviepy - video ready d:\\Trabajo de Maestria\\segmentacion_maestria\\img\\mp4_videos\\train\\paciente_023.mp4\n",
      "Moviepy - Building video d:\\Trabajo de Maestria\\segmentacion_maestria\\img\\mp4_videos\\train\\paciente_024.mp4.\n",
      "Moviepy - Writing video d:\\Trabajo de Maestria\\segmentacion_maestria\\img\\mp4_videos\\train\\paciente_024.mp4\n",
      "\n"
     ]
    },
    {
     "name": "stderr",
     "output_type": "stream",
     "text": [
      "                                                             \r"
     ]
    },
    {
     "name": "stdout",
     "output_type": "stream",
     "text": [
      "Moviepy - Done !\n",
      "Moviepy - video ready d:\\Trabajo de Maestria\\segmentacion_maestria\\img\\mp4_videos\\train\\paciente_024.mp4\n",
      "Moviepy - Building video d:\\Trabajo de Maestria\\segmentacion_maestria\\img\\mp4_videos\\train\\paciente_025.mp4.\n",
      "Moviepy - Writing video d:\\Trabajo de Maestria\\segmentacion_maestria\\img\\mp4_videos\\train\\paciente_025.mp4\n",
      "\n"
     ]
    },
    {
     "name": "stderr",
     "output_type": "stream",
     "text": [
      "                                                             \r"
     ]
    },
    {
     "name": "stdout",
     "output_type": "stream",
     "text": [
      "Moviepy - Done !\n",
      "Moviepy - video ready d:\\Trabajo de Maestria\\segmentacion_maestria\\img\\mp4_videos\\train\\paciente_025.mp4\n",
      "Moviepy - Building video d:\\Trabajo de Maestria\\segmentacion_maestria\\img\\mp4_videos\\train\\paciente_026.mp4.\n",
      "Moviepy - Writing video d:\\Trabajo de Maestria\\segmentacion_maestria\\img\\mp4_videos\\train\\paciente_026.mp4\n",
      "\n"
     ]
    },
    {
     "name": "stderr",
     "output_type": "stream",
     "text": [
      "                                                             \r"
     ]
    },
    {
     "name": "stdout",
     "output_type": "stream",
     "text": [
      "Moviepy - Done !\n",
      "Moviepy - video ready d:\\Trabajo de Maestria\\segmentacion_maestria\\img\\mp4_videos\\train\\paciente_026.mp4\n",
      "Moviepy - Building video d:\\Trabajo de Maestria\\segmentacion_maestria\\img\\mp4_videos\\train\\paciente_027.mp4.\n",
      "Moviepy - Writing video d:\\Trabajo de Maestria\\segmentacion_maestria\\img\\mp4_videos\\train\\paciente_027.mp4\n",
      "\n"
     ]
    },
    {
     "name": "stderr",
     "output_type": "stream",
     "text": [
      "                                                             \r"
     ]
    },
    {
     "name": "stdout",
     "output_type": "stream",
     "text": [
      "Moviepy - Done !\n",
      "Moviepy - video ready d:\\Trabajo de Maestria\\segmentacion_maestria\\img\\mp4_videos\\train\\paciente_027.mp4\n",
      "Moviepy - Building video d:\\Trabajo de Maestria\\segmentacion_maestria\\img\\mp4_videos\\train\\paciente_028.mp4.\n",
      "Moviepy - Writing video d:\\Trabajo de Maestria\\segmentacion_maestria\\img\\mp4_videos\\train\\paciente_028.mp4\n",
      "\n"
     ]
    },
    {
     "name": "stderr",
     "output_type": "stream",
     "text": [
      "                                                             \r"
     ]
    },
    {
     "name": "stdout",
     "output_type": "stream",
     "text": [
      "Moviepy - Done !\n",
      "Moviepy - video ready d:\\Trabajo de Maestria\\segmentacion_maestria\\img\\mp4_videos\\train\\paciente_028.mp4\n",
      "Moviepy - Building video d:\\Trabajo de Maestria\\segmentacion_maestria\\img\\mp4_videos\\train\\paciente_029.mp4.\n",
      "Moviepy - Writing video d:\\Trabajo de Maestria\\segmentacion_maestria\\img\\mp4_videos\\train\\paciente_029.mp4\n",
      "\n"
     ]
    },
    {
     "name": "stderr",
     "output_type": "stream",
     "text": [
      "                                                             \r"
     ]
    },
    {
     "name": "stdout",
     "output_type": "stream",
     "text": [
      "Moviepy - Done !\n",
      "Moviepy - video ready d:\\Trabajo de Maestria\\segmentacion_maestria\\img\\mp4_videos\\train\\paciente_029.mp4\n",
      "Moviepy - Building video d:\\Trabajo de Maestria\\segmentacion_maestria\\img\\mp4_videos\\train\\paciente_030.mp4.\n",
      "Moviepy - Writing video d:\\Trabajo de Maestria\\segmentacion_maestria\\img\\mp4_videos\\train\\paciente_030.mp4\n",
      "\n"
     ]
    },
    {
     "name": "stderr",
     "output_type": "stream",
     "text": [
      "                                                             \r"
     ]
    },
    {
     "name": "stdout",
     "output_type": "stream",
     "text": [
      "Moviepy - Done !\n",
      "Moviepy - video ready d:\\Trabajo de Maestria\\segmentacion_maestria\\img\\mp4_videos\\train\\paciente_030.mp4\n",
      "Moviepy - Building video d:\\Trabajo de Maestria\\segmentacion_maestria\\img\\mp4_videos\\train\\paciente_032.mp4.\n",
      "Moviepy - Writing video d:\\Trabajo de Maestria\\segmentacion_maestria\\img\\mp4_videos\\train\\paciente_032.mp4\n",
      "\n"
     ]
    },
    {
     "name": "stderr",
     "output_type": "stream",
     "text": [
      "                                                             \r"
     ]
    },
    {
     "name": "stdout",
     "output_type": "stream",
     "text": [
      "Moviepy - Done !\n",
      "Moviepy - video ready d:\\Trabajo de Maestria\\segmentacion_maestria\\img\\mp4_videos\\train\\paciente_032.mp4\n",
      "Moviepy - Building video d:\\Trabajo de Maestria\\segmentacion_maestria\\img\\mp4_videos\\train\\paciente_033.mp4.\n",
      "Moviepy - Writing video d:\\Trabajo de Maestria\\segmentacion_maestria\\img\\mp4_videos\\train\\paciente_033.mp4\n",
      "\n"
     ]
    },
    {
     "name": "stderr",
     "output_type": "stream",
     "text": [
      "                                                             \r"
     ]
    },
    {
     "name": "stdout",
     "output_type": "stream",
     "text": [
      "Moviepy - Done !\n",
      "Moviepy - video ready d:\\Trabajo de Maestria\\segmentacion_maestria\\img\\mp4_videos\\train\\paciente_033.mp4\n",
      "Moviepy - Building video d:\\Trabajo de Maestria\\segmentacion_maestria\\img\\mp4_videos\\train\\paciente_034.mp4.\n",
      "Moviepy - Writing video d:\\Trabajo de Maestria\\segmentacion_maestria\\img\\mp4_videos\\train\\paciente_034.mp4\n",
      "\n"
     ]
    },
    {
     "name": "stderr",
     "output_type": "stream",
     "text": [
      "                                                             \r"
     ]
    },
    {
     "name": "stdout",
     "output_type": "stream",
     "text": [
      "Moviepy - Done !\n",
      "Moviepy - video ready d:\\Trabajo de Maestria\\segmentacion_maestria\\img\\mp4_videos\\train\\paciente_034.mp4\n",
      "Moviepy - Building video d:\\Trabajo de Maestria\\segmentacion_maestria\\img\\mp4_videos\\train\\paciente_035.mp4.\n",
      "Moviepy - Writing video d:\\Trabajo de Maestria\\segmentacion_maestria\\img\\mp4_videos\\train\\paciente_035.mp4\n",
      "\n"
     ]
    },
    {
     "name": "stderr",
     "output_type": "stream",
     "text": [
      "                                                             \r"
     ]
    },
    {
     "name": "stdout",
     "output_type": "stream",
     "text": [
      "Moviepy - Done !\n",
      "Moviepy - video ready d:\\Trabajo de Maestria\\segmentacion_maestria\\img\\mp4_videos\\train\\paciente_035.mp4\n",
      "Moviepy - Building video d:\\Trabajo de Maestria\\segmentacion_maestria\\img\\mp4_videos\\train\\paciente_036.mp4.\n",
      "Moviepy - Writing video d:\\Trabajo de Maestria\\segmentacion_maestria\\img\\mp4_videos\\train\\paciente_036.mp4\n",
      "\n"
     ]
    },
    {
     "name": "stderr",
     "output_type": "stream",
     "text": [
      "                                                             \r"
     ]
    },
    {
     "name": "stdout",
     "output_type": "stream",
     "text": [
      "Moviepy - Done !\n",
      "Moviepy - video ready d:\\Trabajo de Maestria\\segmentacion_maestria\\img\\mp4_videos\\train\\paciente_036.mp4\n",
      "Moviepy - Building video d:\\Trabajo de Maestria\\segmentacion_maestria\\img\\mp4_videos\\train\\paciente_037.mp4.\n",
      "Moviepy - Writing video d:\\Trabajo de Maestria\\segmentacion_maestria\\img\\mp4_videos\\train\\paciente_037.mp4\n",
      "\n"
     ]
    },
    {
     "name": "stderr",
     "output_type": "stream",
     "text": [
      "                                                             \r"
     ]
    },
    {
     "name": "stdout",
     "output_type": "stream",
     "text": [
      "Moviepy - Done !\n",
      "Moviepy - video ready d:\\Trabajo de Maestria\\segmentacion_maestria\\img\\mp4_videos\\train\\paciente_037.mp4\n",
      "Moviepy - Building video d:\\Trabajo de Maestria\\segmentacion_maestria\\img\\mp4_videos\\train\\paciente_038.mp4.\n",
      "Moviepy - Writing video d:\\Trabajo de Maestria\\segmentacion_maestria\\img\\mp4_videos\\train\\paciente_038.mp4\n",
      "\n"
     ]
    },
    {
     "name": "stderr",
     "output_type": "stream",
     "text": [
      "                                                             \r"
     ]
    },
    {
     "name": "stdout",
     "output_type": "stream",
     "text": [
      "Moviepy - Done !\n",
      "Moviepy - video ready d:\\Trabajo de Maestria\\segmentacion_maestria\\img\\mp4_videos\\train\\paciente_038.mp4\n",
      "Moviepy - Building video d:\\Trabajo de Maestria\\segmentacion_maestria\\img\\mp4_videos\\train\\paciente_039.mp4.\n",
      "Moviepy - Writing video d:\\Trabajo de Maestria\\segmentacion_maestria\\img\\mp4_videos\\train\\paciente_039.mp4\n",
      "\n"
     ]
    },
    {
     "name": "stderr",
     "output_type": "stream",
     "text": [
      "                                                             \r"
     ]
    },
    {
     "name": "stdout",
     "output_type": "stream",
     "text": [
      "Moviepy - Done !\n",
      "Moviepy - video ready d:\\Trabajo de Maestria\\segmentacion_maestria\\img\\mp4_videos\\train\\paciente_039.mp4\n",
      "Moviepy - Building video d:\\Trabajo de Maestria\\segmentacion_maestria\\img\\mp4_videos\\train\\paciente_040.mp4.\n",
      "Moviepy - Writing video d:\\Trabajo de Maestria\\segmentacion_maestria\\img\\mp4_videos\\train\\paciente_040.mp4\n",
      "\n"
     ]
    },
    {
     "name": "stderr",
     "output_type": "stream",
     "text": [
      "                                                             \r"
     ]
    },
    {
     "name": "stdout",
     "output_type": "stream",
     "text": [
      "Moviepy - Done !\n",
      "Moviepy - video ready d:\\Trabajo de Maestria\\segmentacion_maestria\\img\\mp4_videos\\train\\paciente_040.mp4\n",
      "Moviepy - Building video d:\\Trabajo de Maestria\\segmentacion_maestria\\img\\mp4_videos\\train\\paciente_041.mp4.\n",
      "Moviepy - Writing video d:\\Trabajo de Maestria\\segmentacion_maestria\\img\\mp4_videos\\train\\paciente_041.mp4\n",
      "\n"
     ]
    },
    {
     "name": "stderr",
     "output_type": "stream",
     "text": [
      "                                                             \r"
     ]
    },
    {
     "name": "stdout",
     "output_type": "stream",
     "text": [
      "Moviepy - Done !\n",
      "Moviepy - video ready d:\\Trabajo de Maestria\\segmentacion_maestria\\img\\mp4_videos\\train\\paciente_041.mp4\n",
      "Moviepy - Building video d:\\Trabajo de Maestria\\segmentacion_maestria\\img\\mp4_videos\\train\\paciente_043.mp4.\n",
      "Moviepy - Writing video d:\\Trabajo de Maestria\\segmentacion_maestria\\img\\mp4_videos\\train\\paciente_043.mp4\n",
      "\n"
     ]
    },
    {
     "name": "stderr",
     "output_type": "stream",
     "text": [
      "                                                             \r"
     ]
    },
    {
     "name": "stdout",
     "output_type": "stream",
     "text": [
      "Moviepy - Done !\n",
      "Moviepy - video ready d:\\Trabajo de Maestria\\segmentacion_maestria\\img\\mp4_videos\\train\\paciente_043.mp4\n",
      "Moviepy - Building video d:\\Trabajo de Maestria\\segmentacion_maestria\\img\\mp4_videos\\train\\paciente_044.mp4.\n",
      "Moviepy - Writing video d:\\Trabajo de Maestria\\segmentacion_maestria\\img\\mp4_videos\\train\\paciente_044.mp4\n",
      "\n"
     ]
    },
    {
     "name": "stderr",
     "output_type": "stream",
     "text": [
      "                                                             \r"
     ]
    },
    {
     "name": "stdout",
     "output_type": "stream",
     "text": [
      "Moviepy - Done !\n",
      "Moviepy - video ready d:\\Trabajo de Maestria\\segmentacion_maestria\\img\\mp4_videos\\train\\paciente_044.mp4\n",
      "Moviepy - Building video d:\\Trabajo de Maestria\\segmentacion_maestria\\img\\mp4_videos\\train\\paciente_045.mp4.\n",
      "Moviepy - Writing video d:\\Trabajo de Maestria\\segmentacion_maestria\\img\\mp4_videos\\train\\paciente_045.mp4\n",
      "\n"
     ]
    },
    {
     "name": "stderr",
     "output_type": "stream",
     "text": [
      "                                                             \r"
     ]
    },
    {
     "name": "stdout",
     "output_type": "stream",
     "text": [
      "Moviepy - Done !\n",
      "Moviepy - video ready d:\\Trabajo de Maestria\\segmentacion_maestria\\img\\mp4_videos\\train\\paciente_045.mp4\n",
      "Moviepy - Building video d:\\Trabajo de Maestria\\segmentacion_maestria\\img\\mp4_videos\\train\\paciente_046.mp4.\n",
      "Moviepy - Writing video d:\\Trabajo de Maestria\\segmentacion_maestria\\img\\mp4_videos\\train\\paciente_046.mp4\n",
      "\n"
     ]
    },
    {
     "name": "stderr",
     "output_type": "stream",
     "text": [
      "                                                             \r"
     ]
    },
    {
     "name": "stdout",
     "output_type": "stream",
     "text": [
      "Moviepy - Done !\n",
      "Moviepy - video ready d:\\Trabajo de Maestria\\segmentacion_maestria\\img\\mp4_videos\\train\\paciente_046.mp4\n",
      "Moviepy - Building video d:\\Trabajo de Maestria\\segmentacion_maestria\\img\\mp4_videos\\train\\paciente_047.mp4.\n",
      "Moviepy - Writing video d:\\Trabajo de Maestria\\segmentacion_maestria\\img\\mp4_videos\\train\\paciente_047.mp4\n",
      "\n"
     ]
    },
    {
     "name": "stderr",
     "output_type": "stream",
     "text": [
      "                                                             \r"
     ]
    },
    {
     "name": "stdout",
     "output_type": "stream",
     "text": [
      "Moviepy - Done !\n",
      "Moviepy - video ready d:\\Trabajo de Maestria\\segmentacion_maestria\\img\\mp4_videos\\train\\paciente_047.mp4\n",
      "Moviepy - Building video d:\\Trabajo de Maestria\\segmentacion_maestria\\img\\mp4_videos\\train\\paciente_048.mp4.\n",
      "Moviepy - Writing video d:\\Trabajo de Maestria\\segmentacion_maestria\\img\\mp4_videos\\train\\paciente_048.mp4\n",
      "\n"
     ]
    },
    {
     "name": "stderr",
     "output_type": "stream",
     "text": [
      "                                                             \r"
     ]
    },
    {
     "name": "stdout",
     "output_type": "stream",
     "text": [
      "Moviepy - Done !\n",
      "Moviepy - video ready d:\\Trabajo de Maestria\\segmentacion_maestria\\img\\mp4_videos\\train\\paciente_048.mp4\n"
     ]
    }
   ],
   "source": [
    "gif_list = list(output_path_gif.glob('*.gif'))\n",
    "for gif_path in gif_list:\n",
    "    mp4_filename = output_path_mp4.joinpath(f\"{gif_path.stem}.mp4\")\n",
    "    convert_gif_to_mp4(gif_path, mp4_filename)"
   ]
  }
 ],
 "metadata": {
  "kernelspec": {
   "display_name": "Python 3 (ipykernel)",
   "language": "python",
   "name": "python3"
  },
  "language_info": {
   "codemirror_mode": {
    "name": "ipython",
    "version": 3
   },
   "file_extension": ".py",
   "mimetype": "text/x-python",
   "name": "python",
   "nbconvert_exporter": "python",
   "pygments_lexer": "ipython3",
   "version": "3.8.17"
  }
 },
 "nbformat": 4,
 "nbformat_minor": 5
}
