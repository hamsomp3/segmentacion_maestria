{
 "cells": [
  {
   "cell_type": "code",
   "execution_count": 2,
   "id": "c802a2cc",
   "metadata": {},
   "outputs": [],
   "source": [
    "import numpy as np\n",
    "import pathlib as pl\n",
    "from tqdm import tqdm\n",
    "import matplotlib.pyplot as plt"
   ]
  },
  {
   "cell_type": "code",
   "execution_count": 3,
   "id": "cec95171",
   "metadata": {},
   "outputs": [],
   "source": [
    "current_path    = pl.Path.cwd().parent.joinpath('img', '01 - Original')\n",
    "select_folder   = 1 # 1: train, 2: test\n",
    "folder_path     = current_path.joinpath('train' if select_folder == 1 else 'test')\n",
    "\n",
    "images_path     = folder_path.joinpath('ims')\n",
    "mask_path       = folder_path.joinpath('masks')\n",
    "images_list     = list(images_path.glob('*.npy'))\n",
    "mask_list       = list(mask_path.glob('*.npy'))\n",
    "\n",
    "#create a new folder for the Denoised images\n",
    "new_folder_path = current_path.parent.joinpath('02 -Denoised').mkdir(exist_ok=True)\n",
    "output_path     = current_path.parent.joinpath('02 -Denoised')"
   ]
  },
  {
   "cell_type": "code",
   "execution_count": 4,
   "id": "9de245c3",
   "metadata": {},
   "outputs": [
    {
     "name": "stdout",
     "output_type": "stream",
     "text": [
      "d:\\Trabajo de Maestria\\segmentacion_maestria\\img\\02 -Denoised\n"
     ]
    }
   ],
   "source": [
    "print(output_path)"
   ]
  },
  {
   "cell_type": "code",
   "execution_count": 5,
   "metadata": {},
   "outputs": [],
   "source": [
    "def sorting_key(filepath):\n",
    "    parts           = filepath.stem.split('_')  # Divide el nombre del archivo en partes\n",
    "    patient_number  = int(parts[1])  # Extrae el número del paciente\n",
    "    slice_number    = int(parts[2])  # Extrae el número del slice\n",
    "    return (patient_number, slice_number)  # Retorna una tupla con ambos números\n",
    "\n",
    "# Ordena images_list basado en el número del paciente y el número del slice\n",
    "images_list.sort(key=sorting_key)\n",
    "mask_list.sort(key=sorting_key)"
   ]
  },
  {
   "cell_type": "code",
   "execution_count": null,
   "metadata": {},
   "outputs": [],
   "source": [
    "def remove_noise(m_percentage, files,value,select_folder,select_item,output_path):\n",
    "    folder_path = output_path.joinpath('train' if select_folder == 1 else 'test').mkdir(exist_ok=True)\n",
    "    folder_path = output_path.joinpath('train' if select_folder == 1 else 'test').joinpath('ims' if select_item == 1 else 'masks').mkdir(exist_ok=True)\n",
    "    output_path = output_path.joinpath('train' if select_folder == 1 else 'test').joinpath('ims' if select_item == 1 else 'masks')\n",
    "    \n",
    "    for file in tqdm(files, desc='Denoising images and masks'):\n",
    "        name = file.stem\n",
    "        image = np.load(file)\n",
    "        height_to_remove = int(image.shape[0] * (m_percentage / 100))\n",
    "        \n",
    "        mask = np.ones_like(image)\n",
    "        mask[:height_to_remove] = 0\n",
    "\n",
    "        image_masked = image.copy()\n",
    "        image_masked[mask == 0] = value\n",
    "\n",
    "        np.save(output_path.joinpath(name), image_masked)"
   ]
  },
  {
   "cell_type": "markdown",
   "metadata": {},
   "source": [
    "# Train Folder"
   ]
  },
  {
   "cell_type": "code",
   "execution_count": null,
   "metadata": {},
   "outputs": [],
   "source": [
    "remove_noise(10, images_list,-1024,1,1,output_path)    # Train , ims"
   ]
  },
  {
   "cell_type": "code",
   "execution_count": null,
   "metadata": {},
   "outputs": [],
   "source": [
    "remove_noise(10, mask_list,0,1,2,output_path)      # Train , masks\n"
   ]
  },
  {
   "cell_type": "markdown",
   "metadata": {},
   "source": [
    "# TEST"
   ]
  },
  {
   "cell_type": "code",
   "execution_count": null,
   "metadata": {},
   "outputs": [],
   "source": [
    "remove_noise(10, images_list,-1024,2,1,output_path)    # Train , ims"
   ]
  },
  {
   "cell_type": "code",
   "execution_count": null,
   "metadata": {},
   "outputs": [],
   "source": [
    "remove_noise(10, mask_list,0,2,2,output_path) "
   ]
  },
  {
   "cell_type": "code",
   "execution_count": null,
   "metadata": {},
   "outputs": [],
   "source": [
    "print(output_path)"
   ]
  },
  {
   "cell_type": "code",
   "execution_count": null,
   "metadata": {},
   "outputs": [],
   "source": [
    "def generar_imagenes_png(select_folder,cmap='gray', output_path=output_path):\n",
    "    \"\"\"\n",
    "    Display images and masks side by side.\n",
    "    \n",
    "    Parameters:\n",
    "    - images_list: List of paths to image files.\n",
    "    - mask_list: List of paths to mask files.\n",
    "    - cmap: Color map for displaying images and masks. Default is 'gray'.\n",
    "    \n",
    "    Returns:\n",
    "    - None\n",
    "    \"\"\"\n",
    "    images_path = output_path.joinpath('train' if select_folder == 1 else 'test').joinpath('ims')\n",
    "    mask_path   = output_path.joinpath('train' if select_folder == 1 else 'test').joinpath('masks')\n",
    "    images_list = list(images_path.glob('*.npy'))\n",
    "    mask_list   = list(mask_path.glob('*.npy'))\n",
    "    temp=200\n",
    "    for image, mask in tqdm(zip(images_list[:temp], mask_list[:temp]), desc='Displaying images and masks'):\n",
    "        parts = image.stem.split('_')\n",
    "        set_folder = parts[0]\n",
    "        pacient = int(parts[1])\n",
    "        slice_number = int(parts[2])\n",
    "\n",
    "        image_data = np.load(image)\n",
    "        mask_data = np.load(mask)\n",
    "        \n",
    "        fig, (ax1, ax2) = plt.subplots(1, 2, figsize=(10, 5))\n",
    "        \n",
    "        ax1.imshow(image_data, cmap=cmap)\n",
    "        ax1.set_title(f'Imagen: {image.stem}')\n",
    "        ax1.axis('off')\n",
    "        \n",
    "        ax2.imshow(mask_data, cmap=cmap)\n",
    "        ax2.set_title(f'Máscara: {mask.stem}')\n",
    "        ax2.axis('off')\n",
    "        \n",
    "        fig.suptitle(f'Paciente: {pacient}', fontsize=16)\n",
    "        \n",
    "        plt.savefig(output_path.joinpath(f'{image.stem}.png'))\n",
    "        plt.close()"
   ]
  },
  {
   "cell_type": "code",
   "execution_count": null,
   "id": "904bf4e4",
   "metadata": {},
   "outputs": [],
   "source": [
    "generar_imagenes_png(1, cmap='gray', output_path=output_path)"
   ]
  },
  {
   "cell_type": "code",
   "execution_count": null,
   "metadata": {},
   "outputs": [],
   "source": [
    "print(f\"The unique values of the mask is: {np.unique(mask_data)}\")\n",
    "print(f\"The unique values of the image is: {np.unique(image_data)}\")"
   ]
  }
 ],
 "metadata": {
  "kernelspec": {
   "display_name": "Python 3 (ipykernel)",
   "language": "python",
   "name": "python3"
  },
  "language_info": {
   "codemirror_mode": {
    "name": "ipython",
    "version": 3
   },
   "file_extension": ".py",
   "mimetype": "text/x-python",
   "name": "python",
   "nbconvert_exporter": "python",
   "pygments_lexer": "ipython3",
   "version": "3.11.4"
  }
 },
 "nbformat": 4,
 "nbformat_minor": 5
}
