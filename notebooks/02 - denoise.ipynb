{
 "cells": [
  {
   "cell_type": "code",
   "execution_count": 30,
   "id": "c802a2cc",
   "metadata": {},
   "outputs": [],
   "source": [
    "import numpy as np\n",
    "import pathlib as pl\n",
    "from tqdm import tqdm"
   ]
  },
  {
   "cell_type": "code",
   "execution_count": 31,
   "id": "cec95171",
   "metadata": {},
   "outputs": [],
   "source": [
    "current_path    = pl.Path.cwd().parent.joinpath('img', '01 - Original')\n",
    "select_folder   = 1 # 1: train, 2: test\n",
    "folder_path     = current_path.joinpath('train' if select_folder == 1 else 'test')\n",
    "\n",
    "images_path     = folder_path.joinpath('ims')\n",
    "mask_path       = folder_path.joinpath('masks')\n",
    "images_list     = list(images_path.glob('*.npy'))\n",
    "mask_list       = list(mask_path.glob('*.npy'))\n",
    "\n",
    "#create a new folder for the Denoised images\n",
    "new_folder_path = current_path.parent.joinpath('02 -Denoised').mkdir(exist_ok=True)\n",
    "output_path     = current_path.parent.joinpath('02 -Denoised')"
   ]
  },
  {
   "cell_type": "code",
   "execution_count": 32,
   "id": "9de245c3",
   "metadata": {},
   "outputs": [
    {
     "name": "stdout",
     "output_type": "stream",
     "text": [
      "d:\\Trabajo de Maestria\\segmentacion_maestria\\img\\02 -Denoised\n"
     ]
    }
   ],
   "source": [
    "print(output_path)"
   ]
  },
  {
   "cell_type": "code",
   "execution_count": 33,
   "metadata": {},
   "outputs": [],
   "source": [
    "def sorting_key(filepath):\n",
    "    parts           = filepath.stem.split('_')  # Divide el nombre del archivo en partes\n",
    "    patient_number  = int(parts[1])  # Extrae el número del paciente\n",
    "    slice_number    = int(parts[2])  # Extrae el número del slice\n",
    "    return (patient_number, slice_number)  # Retorna una tupla con ambos números\n",
    "\n",
    "# Ordena images_list basado en el número del paciente y el número del slice\n",
    "images_list.sort(key=sorting_key)\n",
    "mask_list.sort(key=sorting_key)"
   ]
  },
  {
   "cell_type": "code",
   "execution_count": 50,
   "metadata": {},
   "outputs": [],
   "source": [
    "def remove_noise(m_percentage, files,value,select_folder,select_item,output_path):\n",
    "    folder_path = output_path.joinpath('train' if select_folder == 1 else 'test').mkdir(exist_ok=True)\n",
    "    folder_path = output_path.joinpath('train' if select_folder == 1 else 'test').joinpath('ims' if select_item == 1 else 'masks').mkdir(exist_ok=True)\n",
    "    output_path = output_path.joinpath('train' if select_folder == 1 else 'test').joinpath('ims' if select_item == 1 else 'masks')\n",
    "    \n",
    "    for file in tqdm(files, desc='Denoising images and masks'):\n",
    "        name = file.stem\n",
    "        image = np.load(file)\n",
    "        height_to_remove = int(image.shape[0] * (m_percentage / 100))\n",
    "        \n",
    "        mask = np.ones_like(image)\n",
    "        mask[:height_to_remove] = 0\n",
    "\n",
    "        image_masked = image.copy()\n",
    "        image_masked[mask == 0] = value\n",
    "\n",
    "        np.save(output_path.joinpath(name), image_masked)"
   ]
  },
  {
   "cell_type": "code",
   "execution_count": 48,
   "id": "df5933ab",
   "metadata": {},
   "outputs": [],
   "source": [
    "images_list[0]\n",
    "name = images_list[0].stem\n",
    "image = np.load(images_list[0])\n",
    "height_to_remove = int(image.shape[0] * (9/ 100))\n",
    "\n",
    "mask = np.ones_like(image)\n",
    "mask[:height_to_remove] = 0\n",
    "\n",
    "image_masked = image.copy()\n",
    "image_masked[mask == 0] = 1024\n",
    "\n",
    "np.save(output_path.joinpath(name), image_masked)"
   ]
  },
  {
   "cell_type": "markdown",
   "metadata": {},
   "source": [
    "# TRAIN"
   ]
  },
  {
   "cell_type": "code",
   "execution_count": 52,
   "metadata": {},
   "outputs": [
    {
     "name": "stderr",
     "output_type": "stream",
     "text": [
      "Denoising images and masks: 100%|██████████| 2725/2725 [00:05<00:00, 472.00it/s]\n"
     ]
    }
   ],
   "source": [
    "remove_noise(10, images_list,-1024,1,1,output_path)    # Train , ims"
   ]
  },
  {
   "cell_type": "code",
   "execution_count": 53,
   "metadata": {},
   "outputs": [
    {
     "name": "stderr",
     "output_type": "stream",
     "text": [
      "Denoising images and masks: 100%|██████████| 2725/2725 [00:04<00:00, 564.19it/s]\n"
     ]
    }
   ],
   "source": [
    "remove_noise(10, mask_list,0,1,2,output_path)      # Train , masks\n"
   ]
  },
  {
   "cell_type": "markdown",
   "metadata": {},
   "source": [
    "# TEST"
   ]
  },
  {
   "cell_type": "code",
   "execution_count": 13,
   "metadata": {},
   "outputs": [
    {
     "name": "stderr",
     "output_type": "stream",
     "text": [
      "Denoising images and masks: 100%|██████████| 2725/2725 [00:05<00:00, 462.60it/s]\n"
     ]
    }
   ],
   "source": [
    "remove_noise(10, images_list,-1024,2,1,output_path)    # Train , ims"
   ]
  },
  {
   "cell_type": "code",
   "execution_count": 14,
   "metadata": {},
   "outputs": [
    {
     "name": "stderr",
     "output_type": "stream",
     "text": [
      "Denoising images and masks: 100%|██████████| 2725/2725 [00:03<00:00, 839.68it/s] \n"
     ]
    }
   ],
   "source": [
    "remove_noise(10, mask_list,0,2,2,output_path) "
   ]
  },
  {
   "cell_type": "code",
   "execution_count": null,
   "metadata": {},
   "outputs": [],
   "source": []
  },
  {
   "cell_type": "code",
   "execution_count": null,
   "metadata": {},
   "outputs": [],
   "source": []
  },
  {
   "cell_type": "code",
   "execution_count": null,
   "metadata": {},
   "outputs": [],
   "source": []
  },
  {
   "cell_type": "code",
   "execution_count": null,
   "metadata": {},
   "outputs": [],
   "source": []
  },
  {
   "cell_type": "code",
   "execution_count": null,
   "metadata": {},
   "outputs": [],
   "source": []
  },
  {
   "cell_type": "code",
   "execution_count": null,
   "metadata": {},
   "outputs": [],
   "source": []
  },
  {
   "cell_type": "code",
   "execution_count": null,
   "metadata": {},
   "outputs": [],
   "source": []
  },
  {
   "cell_type": "code",
   "execution_count": null,
   "metadata": {},
   "outputs": [],
   "source": [
    "print(images_list[0])\n",
    "print(mask_list[0])\n",
    "print(images_list[0].stem)"
   ]
  },
  {
   "cell_type": "code",
   "execution_count": null,
   "metadata": {},
   "outputs": [],
   "source": [
    "print(f\"The unique values of the mask is: {np.unique(mask_data)}\")\n",
    "print(f\"The unique values of the image is: {np.unique(image_data)}\")"
   ]
  },
  {
   "cell_type": "code",
   "execution_count": null,
   "metadata": {},
   "outputs": [],
   "source": [
    "np.unique(image_data)"
   ]
  },
  {
   "cell_type": "code",
   "execution_count": null,
   "id": "ef9c9aaa",
   "metadata": {},
   "outputs": [],
   "source": [
    "def generar_imagenes_png(images_list, mask_list, cmap='gray'):\n",
    "    \"\"\"\n",
    "    Display images and masks side by side.\n",
    "    \n",
    "    Parameters:\n",
    "    - images_list: List of paths to image files.\n",
    "    - mask_list: List of paths to mask files.\n",
    "    - cmap: Color map for displaying images and masks. Default is 'gray'.\n",
    "    \n",
    "    Returns:\n",
    "    - None\n",
    "    \"\"\"\n",
    "\n",
    "    for image, mask in tqdm(zip(images_list, mask_list), desc='Displaying images and masks'):\n",
    "        parts = image.stem.split('_')\n",
    "        set_folder = parts[0]\n",
    "        pacient = int(parts[1])\n",
    "        slice_number = int(parts[2])\n",
    "        # Cargar datos de imagen y máscara\n",
    "        image_data = np.load(image)\n",
    "        mask_data = np.load(mask)\n",
    "        \n",
    "        # Crear subplots\n",
    "        fig, (ax1, ax2) = plt.subplots(1, 2, figsize=(10, 5))\n",
    "        \n",
    "        # Mostrar imagen\n",
    "        ax1.imshow(image_data, cmap=cmap)\n",
    "        ax1.set_title(f'Imagen: {image.stem}')\n",
    "        ax1.axis('off')\n",
    "        \n",
    "        # Mostrar máscara\n",
    "        ax2.imshow(mask_data, cmap=cmap)\n",
    "        ax2.set_title(f'Máscara: {mask.stem}')\n",
    "        ax2.axis('off')\n",
    "        \n",
    "        # Añadir un súper título con la información del paciente\n",
    "        fig.suptitle(f'Paciente: {pacient}', fontsize=16)\n",
    "        \n",
    "        plt.savefig(f'{image.stem}.png')\n",
    "        plt.close()"
   ]
  },
  {
   "cell_type": "code",
   "execution_count": null,
   "id": "4583ee4a",
   "metadata": {},
   "outputs": [],
   "source": [
    "generar_imagenes_png(images_list[:2], mask_list[:2], cmap='gray')"
   ]
  },
  {
   "cell_type": "code",
   "execution_count": null,
   "id": "ed308e47",
   "metadata": {},
   "outputs": [],
   "source": [
    "def display_images_and_masks(images_list, mask_list, num_slices, counter, pacient, cmap='gray'):\n",
    "    \"\"\"\n",
    "    Display images and masks side by side and store them in a list.\n",
    "    \n",
    "    Parameters:\n",
    "    - images_list: List of paths to image files.\n",
    "    - mask_list: List of paths to mask files.\n",
    "    - num_slices: Number of image-mask pairs to display.\n",
    "    - cmap: Color map for displaying images and masks. Default is 'gray'.\n",
    "    \n",
    "    Returns:\n",
    "    - images_for_gif: List of images for creating a GIF.\n",
    "    \"\"\"\n",
    "    num_slices = num_slices + counter\n",
    "    \n",
    "    # Limitar el número de imágenes y máscaras a mostrar\n",
    "    images_list = images_list[counter:num_slices]\n",
    "    mask_list = mask_list[counter:num_slices]\n",
    "    \n",
    "    # Asegurarse de que hay el mismo número de imágenes y máscaras\n",
    "    assert len(images_list) == len(mask_list), \"La cantidad de imágenes y máscaras debe ser la misma.\"\n",
    "    \n",
    "    images_for_gif = []  # Lista para almacenar imágenes para el GIF\n",
    "    \n",
    "    for image, mask in tqdm(zip(images_list, mask_list), desc='Displaying images and masks'):\n",
    "        # Cargar datos de imagen y máscara\n",
    "        image_data = np.load(image)\n",
    "        mask_data = np.load(mask)\n",
    "        \n",
    "        # Crear subplots\n",
    "        fig, (ax1, ax2) = plt.subplots(1, 2, figsize=(10, 5))\n",
    "        \n",
    "        # Mostrar imagen\n",
    "        ax1.imshow(image_data, cmap=cmap)\n",
    "        ax1.set_title(f'Imagen: {image.stem}')\n",
    "        ax1.axis('off')\n",
    "        \n",
    "        # Mostrar máscara\n",
    "        ax2.imshow(mask_data, cmap=cmap)\n",
    "        ax2.set_title(f'Máscara: {mask.stem}')\n",
    "        ax2.axis('off')\n",
    "        \n",
    "        # Añadir un súper título con la información del paciente\n",
    "        fig.suptitle(f'Paciente: {pacient:03d}', fontsize=16)\n",
    "        \n",
    "        # Guardar la figura en un buffer y luego agregarla a images_for_gif\n",
    "        buf = io.BytesIO()\n",
    "        plt.savefig(buf, format='png')\n",
    "        buf.seek(0)\n",
    "        images_for_gif.append(imageio.imread(buf))\n",
    "        buf.close()\n",
    "        \n",
    "        # Cerrar la figura para evitar la visualización\n",
    "        plt.close(fig)\n",
    "    \n",
    "    return images_for_gif"
   ]
  },
  {
   "cell_type": "code",
   "execution_count": null,
   "id": "ba52f729",
   "metadata": {},
   "outputs": [],
   "source": [
    "def get_max_slices(images_list):\n",
    "    slices_per_patient = defaultdict(int)\n",
    "\n",
    "    for image_path in images_list:\n",
    "        parts = image_path.stem.split('_')\n",
    "        patient_number = int(parts[1])\n",
    "        slice_number = int(parts[2])+1\n",
    "\n",
    "        # Actualizar el conteo de slices si el número de slice actual es mayor que el máximo registrado\n",
    "        slices_per_patient[patient_number] = max(slices_per_patient[patient_number], slice_number)\n",
    "\n",
    "    return slices_per_patient\n",
    "\n",
    "def print_max_slices(max_slices_per_patient):\n",
    "    for patient_number, slice_count in max_slices_per_patient.items():\n",
    "        print(f\"Paciente {str(patient_number).zfill(3)}: {slice_count} slices\")\n",
    "\n",
    "# Llamar a la función y obtener el número máximo de slices por paciente\n",
    "max_slices_per_patient = get_max_slices(images_list)\n",
    "\n",
    "# Llamar a la función print_max_slices para imprimir la salida formateada\n",
    "print_max_slices(max_slices_per_patient)"
   ]
  },
  {
   "cell_type": "code",
   "execution_count": null,
   "id": "57f20179",
   "metadata": {},
   "outputs": [],
   "source": [
    "def create_dataframe(max_slices_per_patient):\n",
    "    # Convertir el diccionario a una lista de tuples\n",
    "    data_list = [(str(patient_number).zfill(3), slice_count) for patient_number, slice_count in max_slices_per_patient.items()]\n",
    "    \n",
    "    # Crear un DataFrame y retornarlo\n",
    "    return pd.DataFrame(data_list, columns=['Paciente', 'max_slices'])\n",
    "\n",
    "df = create_dataframe(max_slices_per_patient)\n",
    "\n",
    "df['max_slices'].describe()"
   ]
  },
  {
   "cell_type": "code",
   "execution_count": null,
   "id": "ca79b3e5",
   "metadata": {},
   "outputs": [],
   "source": [
    "df"
   ]
  },
  {
   "cell_type": "code",
   "execution_count": null,
   "id": "187d9ecd",
   "metadata": {},
   "outputs": [],
   "source": [
    "counter = 0\n",
    "for patient_number, max_slices in tqdm(max_slices_per_patient.items(), desc='Processing patients'):\n",
    "    #print(f'Paciente {patient_number:03d}: {max_slices} slices')\n",
    "    images_for_gif = display_images_and_masks(images_list, mask_list, max_slices, counter,patient_number,cmap='gray')\n",
    "    counter = counter + max_slices + 1\n",
    "    if images_for_gif:\n",
    "        imageio.mimsave(f'paciente_{patient_number:03d}.gif', images_for_gif, duration=0.5)\n",
    "    else:\n",
    "        print(f'No se generaron imágenes para el paciente {patient_number:03d}')\n"
   ]
  },
  {
   "cell_type": "code",
   "execution_count": null,
   "id": "7ba27392",
   "metadata": {},
   "outputs": [],
   "source": [
    "gif_list = list(current_path.glob('*.gif'))\n",
    "for gif in gif_list:\n",
    "    display(Image(str(gif)))"
   ]
  },
  {
   "cell_type": "code",
   "execution_count": null,
   "id": "baf9c358",
   "metadata": {},
   "outputs": [],
   "source": [
    "def convert_gif_to_mp4(gif_path, mp4_path):\n",
    "    clip = VideoFileClip(str(gif_path))\n",
    "    clip.write_videofile(str(mp4_path), codec='libx264')\n",
    "\n",
    "# Obtener la ruta del directorio actual\n",
    "current_path = pl.Path.cwd()\n",
    "\n",
    "# Lista de archivos GIF en el directorio actual\n",
    "gif_list = list(current_path.glob('*.gif'))\n",
    "\n",
    "# Ruta de directorio donde se guardarán los archivos MP4\n",
    "mp4_directory = current_path / \"mp4\"\n",
    "\n",
    "# Crear el directorio mp4 si no existe\n",
    "mp4_directory.mkdir(exist_ok=True)\n",
    "\n",
    "# Convertir cada archivo GIF a MP4\n",
    "for gif_path in gif_list:\n",
    "    mp4_filename = f\"{gif_path.stem}.mp4\"\n",
    "    mp4_path = mp4_directory / mp4_filename\n",
    "    convert_gif_to_mp4(gif_path, mp4_path)"
   ]
  }
 ],
 "metadata": {
  "kernelspec": {
   "display_name": "Python 3 (ipykernel)",
   "language": "python",
   "name": "python3"
  },
  "language_info": {
   "codemirror_mode": {
    "name": "ipython",
    "version": 3
   },
   "file_extension": ".py",
   "mimetype": "text/x-python",
   "name": "python",
   "nbconvert_exporter": "python",
   "pygments_lexer": "ipython3",
   "version": "3.11.4"
  }
 },
 "nbformat": 4,
 "nbformat_minor": 5
}
